{
 "cells": [
  {
   "cell_type": "code",
   "execution_count": 1,
   "metadata": {},
   "outputs": [],
   "source": [
    "%load_ext autoreload\n",
    "\n",
    "from PFMD import DiscretePeierls\n",
    "from matplotlib import pyplot as plt\n",
    "import jax.numpy as jnp"
   ]
  },
  {
   "cell_type": "code",
   "execution_count": 2,
   "metadata": {},
   "outputs": [],
   "source": [
    "# def Gamma(u, gamma_c):\n",
    "#     return -jnp.cos(2*jnp.pi*u[0])*gamma_c"
   ]
  },
  {
   "cell_type": "code",
   "execution_count": 3,
   "metadata": {},
   "outputs": [],
   "source": [
    "# nl = 30\n",
    "# lspan = jnp.arange(-nl//2, nl//2)\n",
    "# # part1 = (np.arctan(lspan + 3.5)/(2*np.pi))+(np.arctan(lspan - 3.5)/(2*np.pi))+0.5\n",
    "\n",
    "# # # 拼接零数组\n",
    "# # u_init = np.concatenate([part1, np.zeros(nl)])  # 形状 (2*NL,)\n",
    "# uzinit = jnp.arctan(lspan)/(jnp.pi)+0.5\n",
    "# u_init = jnp.c_[uzinit, jnp.zeros(nl)]\n",
    "\n",
    "# # b = 1.0                # 单位: b (基本长度单位)\n",
    "# # a = np.sqrt(2) * b / 2  # 根据b计算a，单位: b\n",
    "# # nu = 0.297039 \n",
    "# # κs= 1.0           # 螺旋位错相关刚度\n",
    "# # κe= 124.446 / 72.732  # 刃型位错相关刚度\n",
    "# # βs = 0.5 * np.sqrt(3) / 4  # 螺旋位错非线性项系数 (单位: 0.5*μ*λ)\n",
    "# # βe = np.sqrt(3) / 4        # 刃型位错非线性项系数 (单位: μ*λ)\n",
    "# # λ= np.sqrt(3) / 4\n",
    "# # gamma =λ / 2\n",
    "\n",
    "# # ωr_se = np.array([0*βs, 0*βe]) / λ**2  # 弹性系数项，形状 (2,)\n",
    "# # ωs_se = np.array([κs, 0*κe]) / λ     # 非线性系数项，形状 (2,)\n",
    "\n",
    "# params_test = {\n",
    "#     'omega_r': (0, 0),\n",
    "#     'omega_s': (1, 0),\n",
    "#     'uz_bound': (0.0, 1.0),\n",
    "#     'uy_bound': (0.0, 0.0),\n",
    "#     'sigma': (0.0, 0.0)\n",
    "# }\n",
    "\n",
    "# peierls = DiscretePeierls(u_init, Gamma, 1/(8*jnp.pi), params_test)\n",
    "\n",
    "# tend = 4\n",
    "# nt = 5\n",
    "# t_span = (0, tend)  \n",
    "# t_eval = jnp.linspace(0, tend, nt) \n",
    "# t_result, u_result = peierls.run(t_span, t_eval)\n",
    "\n",
    "# # # 输出结果\n",
    "# # print(\"Time points:\", t_result)\n",
    "# # print(\"Solution shape:\", u_result.shape)  # (nl, 2, time)\n"
   ]
  },
  {
   "cell_type": "code",
   "execution_count": 4,
   "metadata": {},
   "outputs": [],
   "source": [
    "# plt.scatter(lspan, uzinit)\n",
    "# for i in range(5):\n",
    "#     plt.scatter(lspan, u_result[i, :, 0], label=f't={t_result[i]:.2f}')\n",
    "# plt.legend()"
   ]
  },
  {
   "cell_type": "code",
   "execution_count": 5,
   "metadata": {},
   "outputs": [],
   "source": [
    "def Gamma(u, gamma_c):\n",
    "    p = 2*jnp.pi/jnp.sqrt(3)\n",
    "    q = 2*jnp.pi\n",
    "    \"\"\"\n",
    "    Gamma surface\n",
    "    \"\"\"\n",
    "    term = gamma_c[15] \n",
    "    \n",
    "    term += gamma_c[0] * (\n",
    "        jnp.cos(2.0 * p * u[1]) + \n",
    "        jnp.cos(1.0 * p * u[1] + 1.0 * q * u[0]) + \n",
    "        jnp.cos(1.0 * p * u[1] - 1.0 * q * u[0])\n",
    "    )\n",
    "    \n",
    "    term += gamma_c[1] * (\n",
    "        jnp.cos(2.0 * q * u[0]) + \n",
    "        jnp.cos(3.0 * p * u[1] + 1.0 * q * u[0]) + \n",
    "        jnp.cos(3.0 * p * u[1] - 1.0 * q * u[0])\n",
    "    )\n",
    "    \n",
    "    term += gamma_c[2] * (\n",
    "        jnp.cos(4.0 * p * u[1]) + \n",
    "        jnp.cos(2.0 * p * u[1] + 2.0 * q * u[0]) + \n",
    "        jnp.cos(2.0 * p * u[1] - 2.0 * q * u[0])\n",
    "    )\n",
    "    \n",
    "    term += gamma_c[3] * (\n",
    "        jnp.cos(5.0 * p * u[1] + 1.0 * q * u[0]) + \n",
    "        jnp.cos(4.0 * p * u[1] + 2.0 * q * u[0]) + \n",
    "        jnp.cos(1.0 * p * u[1] + 3.0 * q * u[0]) + \n",
    "        jnp.cos(1.0 * p * u[1] - 3.0 * q * u[0]) + \n",
    "        jnp.cos(4.0 * p * u[1] - 2.0 * q * u[0]) + \n",
    "        jnp.cos(5.0 * p * u[1] - 1.0 * q * u[0])\n",
    "    )\n",
    "    \n",
    "    term += gamma_c[4] * (\n",
    "        jnp.cos(6.0 * p * u[1]) + \n",
    "        jnp.cos(3.0 * p * u[1] + 3.0 * q * u[0]) + \n",
    "        jnp.cos(3.0 * p * u[1] - 3.0 * q * u[0])\n",
    "    )\n",
    "    \n",
    "    term += gamma_c[5] * (\n",
    "        jnp.cos(4.0 * q * u[0]) + \n",
    "        jnp.cos(6.0 * p * u[1] + 2.0 * q * u[0]) + \n",
    "        jnp.cos(6.0 * p * u[1] - 2.0 * q * u[0])\n",
    "    )\n",
    "    \n",
    "    term += gamma_c[6] * (\n",
    "        jnp.cos(8.0 * p * u[1]) + \n",
    "        jnp.cos(4.0 * p * u[1] + 4.0 * q * u[0]) + \n",
    "        jnp.cos(4.0 * p * u[1] - 4.0 * q * u[0])\n",
    "    )\n",
    "    \n",
    "    term += gamma_c[7] * (\n",
    "        jnp.cos(6.0 * q * u[0]) + \n",
    "        jnp.cos(9.0 * p * u[1] + 3.0 * q * u[0]) + \n",
    "        jnp.cos(9.0 * p * u[1] - 3.0 * q * u[0])\n",
    "    )\n",
    "    \n",
    "    term += gamma_c[8] * (\n",
    "        jnp.cos(10.0 * p * u[1]) + \n",
    "        jnp.cos(5.0 * p * u[1] + 5.0 * q * u[0]) + \n",
    "        jnp.cos(5.0 * p * u[1] - 5.0 * q * u[0])\n",
    "    )\n",
    "    \n",
    "    term += gamma_c[9] * (\n",
    "        jnp.sin(2.0 * p * u[1]) - \n",
    "        jnp.sin(1.0 * p * u[1] + 1.0 * q * u[0]) - \n",
    "        jnp.sin(1.0 * p * u[1] - 1.0 * q * u[0])\n",
    "    )\n",
    "    \n",
    "    term += gamma_c[10] * (\n",
    "        jnp.sin(4.0 * p * u[1]) - \n",
    "        jnp.sin(2.0 * p * u[1] + 2.0 * q * u[0]) - \n",
    "        jnp.sin(2.0 * p * u[1] - 2.0 * q * u[0])\n",
    "    )\n",
    "    \n",
    "    term += gamma_c[11] * (\n",
    "        jnp.sin(5.0 * p * u[1] + 1.0 * q * u[0]) - \n",
    "        jnp.sin(4.0 * p * u[1] + 2.0 * q * u[0]) - \n",
    "        jnp.sin(1.0 * p * u[1] + 3.0 * q * u[0]) - \n",
    "        jnp.sin(1.0 * p * u[1] - 3.0 * q * u[0]) - \n",
    "        jnp.sin(4.0 * p * u[1] - 2.0 * q * u[0]) + \n",
    "        jnp.sin(5.0 * p * u[1] - 1.0 * q * u[0])\n",
    "    )\n",
    "    \n",
    "    term += gamma_c[12] * (\n",
    "        jnp.sin(6.0 * p * u[1]) - \n",
    "        jnp.sin(3.0 * p * u[1] + 3.0 * q * u[0]) - \n",
    "        jnp.sin(3.0 * p * u[1] - 3.0 * q * u[0])\n",
    "    )\n",
    "    \n",
    "    term += gamma_c[13] * (\n",
    "        jnp.sin(8.0 * p * u[1]) - \n",
    "        jnp.sin(4.0 * p * u[1] + 4.0 * q * u[0]) - \n",
    "        jnp.sin(4.0 * p * u[1] - 4.0 * q * u[0])\n",
    "    )\n",
    "    \n",
    "    term += gamma_c[14] * (\n",
    "        jnp.sin(10.0 * p * u[1]) - \n",
    "        jnp.sin(5.0 * p * u[1] + 5.0 * q * u[0]) - \n",
    "        jnp.sin(5.0 * p * u[1] - 5.0 * q * u[0])\n",
    "    )\n",
    "    \n",
    "    return term"
   ]
  },
  {
   "cell_type": "code",
   "execution_count": 6,
   "metadata": {},
   "outputs": [],
   "source": [
    "c = [\n",
    "    -0.0019125519595932596,\n",
    "    0.0003005935369634915,\n",
    "    -0.004239113307857148,\n",
    "    0.000025312895300520926,\n",
    "    -0.000016013823539506667,\n",
    "    -0.0007614840227797769,\n",
    "    0.00020200193876531548,\n",
    "    -0.000027877026670403876,\n",
    "    4.032454755765513e-6,\n",
    "    0.0035967678463422782,\n",
    "    -0.00695607350257013,\n",
    "    -0.0004427695369179309,\n",
    "    2.4014461498135325e-7,\n",
    "    -0.00014243187185675744,\n",
    "    -0.000057645719547335114,\n",
    "    0.01919935925806344\n",
    "]"
   ]
  },
  {
   "cell_type": "code",
   "execution_count": 7,
   "metadata": {},
   "outputs": [
    {
     "name": "stdout",
     "output_type": "stream",
     "text": [
      "Time points: [   0. 1500. 3000. 4500. 6000.]\n",
      "Solution shape: (5, 100, 2)\n"
     ]
    }
   ],
   "source": [
    "nl = 100\n",
    "lspan = jnp.arange(-nl//2, nl//2)\n",
    "# part1 = (np.arctan(lspan + 3.5)/(2*np.pi))+(np.arctan(lspan - 3.5)/(2*np.pi))+0.5\n",
    "\n",
    "# # 拼接零数组\n",
    "# u_init = np.concatenate([part1, np.zeros(nl)])  # 形状 (2*NL,)\n",
    "uzinit = jnp.arctan(lspan)/(jnp.pi)+0.5\n",
    "u_init = jnp.c_[uzinit, jnp.zeros(nl)]\n",
    "\n",
    "b = 1.0                # 单位: b (基本长度单位)\n",
    "a = jnp.sqrt(2) * b / 2  # 根据b计算a，单位: b\n",
    "nu = 0.297039 \n",
    "κs= 1.0           # 螺旋位错相关刚度\n",
    "κe= 124.446 / 72.732  # 刃型位错相关刚度\n",
    "βs = 0.5 * jnp.sqrt(3) / 4  # 螺旋位错非线性项系数 (单位: 0.5*μ*λ)\n",
    "βe = jnp.sqrt(3) / 4        # 刃型位错非线性项系数 (单位: μ*λ)\n",
    "λ= jnp.sqrt(3) / 4\n",
    "gamma =λ / 2\n",
    "\n",
    "ωr_se = jnp.array([βs, βe]) / λ**2  # 弹性系数项，形状 (2,)\n",
    "ωs_se = jnp.array([κs, κe]) / λ     # 非线性系数项，形状 (2,)\n",
    "\n",
    "params_test = {\n",
    "    'omega_r': (ωr_se[0], ωr_se[1]),\n",
    "    'omega_s': (ωs_se[0], ωs_se[1]),\n",
    "    'uz_bound': (0.0, 1.0),\n",
    "    'uy_bound': (0.0, 0.0),\n",
    "    'sigma': (0.0, 0.0)\n",
    "}\n",
    "\n",
    "\n",
    "peierls = DiscretePeierls(u_init, Gamma, c, params_test)\n",
    "t_eval = jnp.linspace(0, 6000, 5) \n",
    "t_result, u_result = peierls.run(t_eval)\n",
    "\n",
    "# 输出结果\n",
    "print(\"Time points:\", t_result)\n",
    "print(\"Solution shape:\", u_result.shape)  # (nl, 2, time)\n"
   ]
  },
  {
   "cell_type": "code",
   "execution_count": 8,
   "metadata": {},
   "outputs": [
    {
     "data": {
      "text/plain": [
       "<matplotlib.legend.Legend at 0x7f2ed4475d60>"
      ]
     },
     "execution_count": 8,
     "metadata": {},
     "output_type": "execute_result"
    },
    {
     "data": {
      "image/png": "[encoded data removed]",
      "text/plain": [
       "<Figure size 640x480 with 1 Axes>"
      ]
     },
     "metadata": {},
     "output_type": "display_data"
    }
   ],
   "source": [
    "for i in [0, 2, -1]:\n",
    "    plt.scatter(lspan, u_result[i, :, 0], label=f't={t_result[i]:.2f}')\n",
    "plt.legend()"
   ]
  },
  {
   "cell_type": "code",
   "execution_count": 9,
   "metadata": {},
   "outputs": [],
   "source": [
    "# np.hstack([Gamma(utest[l], c) for l in range(utest.shape[0])])"
   ]
  },
  {
   "cell_type": "code",
   "execution_count": 10,
   "metadata": {},
   "outputs": [
    {
     "data": {
      "text/plain": [
       "<matplotlib.legend.Legend at 0x7f2ec4241f40>"
      ]
     },
     "execution_count": 10,
     "metadata": {},
     "output_type": "execute_result"
    },
    {
     "data": {
      "image/png": "[encoded data removed]",
      "text/plain": [
       "<Figure size 640x480 with 1 Axes>"
      ]
     },
     "metadata": {},
     "output_type": "display_data"
    }
   ],
   "source": [
    "for i in [0, 2, -1]:\n",
    "    plt.scatter(lspan, u_result[i, :, 1], label=f't={t_result[i]:.2f}')\n",
    "plt.legend()"
   ]
  },
  {
   "cell_type": "code",
   "execution_count": null,
   "metadata": {},
   "outputs": [],
   "source": []
  }
 ],
 "metadata": {
  "kernelspec": {
   "display_name": "pfmd",
   "language": "python",
   "name": "python3"
  },
  "language_info": {
   "codemirror_mode": {
    "name": "ipython",
    "version": 3
   },
   "file_extension": ".py",
   "mimetype": "text/x-python",
   "name": "python",
   "nbconvert_exporter": "python",
   "pygments_lexer": "ipython3",
   "version": "3.12.0"
  }
 },
 "nbformat": 4,
 "nbformat_minor": 2
}
